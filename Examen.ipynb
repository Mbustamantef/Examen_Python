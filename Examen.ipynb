{
 "cells": [
  {
   "cell_type": "markdown",
   "metadata": {},
   "source": [
    "Desarrollo en Python (modular/notebook: 20 pts).\n",
    "Diseño UML del proyecto: 5 pts.\n",
    "Repositorio Publicado: 5 pts .\n",
    "En la UCOM se quiere Crear un proyecto basado en el registro vehicular para acceder al\n",
    "futuro estacionamiento de la institución para ello se requiere hacer\n",
    "Crear una clase llamada Vehículo con los siguientes atributos:\n",
    "● marca (string)\n",
    "● modelo (string)\n",
    "● año (integer)\n",
    "● color (string)\n",
    "La clase debe tener los siguientes métodos:\n",
    "● __init__: Inicializa los atributos del vehículo.\n",
    "● __str__: Regresa una representación en string del vehículo (ej. \"Marca: Ford,\n",
    "Modelo: Focus, Año: 2022, Color: Rojo\").\n",
    "● arrancar: Imprime un mensaje que indica que el vehículo está arrancando.\n",
    "● frenar: Imprime un mensaje que indica que el vehículo está frenando.\n",
    "Crear una clase llamada Coche que herede de la clase Vehiculo. Agrega los\n",
    "siguientes atributos a la clase Coche:\n",
    "● numero_puertas (integer)\n",
    "● tipo_combustible (string)\n",
    "También Agregar un método llamado abrir_maletero que imprima un mensaje\n",
    "indicando que el maletero se está abriendo y Finalmente Crear Dos objetos de la clase\n",
    "Coche con diferentes atributos. Llama a los métodos arrancar, frenar y\n",
    "abrir_maletero en ambos objetos"
   ]
  },
  {
   "cell_type": "code",
   "execution_count": 2,
   "metadata": {},
   "outputs": [
    {
     "name": "stdout",
     "output_type": "stream",
     "text": [
      "Marca: Tesla, Modelo: model o, Año: 2024, Color: Blanco\n",
      "El vehículo Tesla model o está arrancando.\n",
      "El vehículo Tesla model o está frenando.\n",
      "El maletero del coche Tesla model o está abriéndose.\n",
      "\n",
      "\n",
      "Marca: Ford, Modelo: Focus, Año: 2022, Color: Rojo\n",
      "El vehículo Ford Focus está arrancando.\n",
      "El vehículo Ford Focus está frenando.\n",
      "El maletero del coche Ford Focus está abriéndose.\n"
     ]
    }
   ],
   "source": [
    "class Vehiculo:\n",
    "    def __init__(auto, marca, modelo, anho, color):\n",
    "        auto.marca = marca\n",
    "        auto.modelo = modelo\n",
    "        auto.anho = anho\n",
    "        auto.color = color\n",
    "\n",
    "    def __str__(auto):\n",
    "        return f\"Marca: {auto.marca}, Modelo: {auto.modelo}, Año: {auto.anho}, Color: {auto.color}\"\n",
    "\n",
    "    def arrancar(auto):\n",
    "        print(f\"El vehículo {auto.marca} {auto.modelo} está arrancando.\")\n",
    "        print(\"Abran paso!!!\")\n",
    "\n",
    "    def frenar(auto):\n",
    "        print(f\"El vehículo {auto.marca} {auto.modelo} está frenando.\")\n",
    "        print(\"Cuidadooo!!!\")\n",
    "\n",
    "class Coche(Vehiculo):\n",
    "    def __init__(auto, marca, modelo, anho, color, numero_puertas, tipo_combustible):\n",
    "        super().__init__(marca, modelo, anho, color)\n",
    "        auto.numero_puertas = numero_puertas\n",
    "        auto.tipo_combustible = tipo_combustible\n",
    "\n",
    "    def abrir_maletero(auto):\n",
    "        print(f\"El maletero del coche {auto.marca} {auto.modelo} está abriéndose.\")\n",
    "\n",
    "\n",
    "coche1 = Coche(\"Tesla\", \"model o\", 2024, \"Blanco\", 4, \"Electrico\")\n",
    "coche2 = Coche(\"Ford\", \"Focus\", 2022, \"Rojo\", 5, \"Diesel\")\n",
    "\n",
    "\n",
    "print(coche1)\n",
    "coche1.arrancar()\n",
    "coche1.frenar()\n",
    "coche1.abrir_maletero()\n",
    "\n",
    "print(\"\\n\")\n",
    "\n",
    "\n",
    "print(coche2)\n",
    "coche2.arrancar()\n",
    "coche2.frenar()\n",
    "coche2.abrir_maletero()\n"
   ]
  }
 ],
 "metadata": {
  "kernelspec": {
   "display_name": "Python 3",
   "language": "python",
   "name": "python3"
  },
  "language_info": {
   "codemirror_mode": {
    "name": "ipython",
    "version": 3
   },
   "file_extension": ".py",
   "mimetype": "text/x-python",
   "name": "python",
   "nbconvert_exporter": "python",
   "pygments_lexer": "ipython3",
   "version": "3.12.7"
  }
 },
 "nbformat": 4,
 "nbformat_minor": 2
}
